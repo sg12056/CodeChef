{
 "cells": [
  {
   "cell_type": "code",
   "execution_count": null,
   "metadata": {},
   "outputs": [],
   "source": [
    "def findAns(l):\n",
    "    ansList = list()\n",
    "    for m in l:\n",
    "        ansCount = 0\n",
    "        for x in range(m[0],m[1]+1):\n",
    "            if int(str(x)[-1]) == 2 or int(str(x)[-1]) == 3 or int(str(x)[-1]) == 9:\n",
    "                ansCount = ansCount + 1\n",
    "        ansList.append(ansCount)        \n",
    "    return ansList  \n",
    "\n",
    "l = list()\n",
    "tc = int(input())\n",
    "for t in range(tc):\n",
    "    node = [int(x) for x in input().split()]\n",
    "    l.append(node)\n",
    "\n",
    "for x in findAns(l):\n",
    "    print(x)\n",
    "    "
   ]
  },
  {
   "cell_type": "code",
   "execution_count": null,
   "metadata": {},
   "outputs": [],
   "source": [
    "def findAns(l):\n",
    "    ansList = list()\n",
    "    for m in l:\n",
    "        maxCount = 0\n",
    "        m = sorted(m)\n",
    "        for i,n in enumerate(m):\n",
    "            if n <= maxCount:\n",
    "                maxCount = maxCount+1                \n",
    "        ansList.append(maxCount)\n",
    "    return ansList  \n",
    "\n",
    "l = list()\n",
    "tc = int(input())\n",
    "for t in range(tc):\n",
    "    nf = int(input())\n",
    "    node = [int(x) for x in input().split()]\n",
    "    l.append(node)\n",
    "\n",
    "for x in findAns(l):\n",
    "    print(x)\n",
    "       "
   ]
  },
  {
   "cell_type": "code",
   "execution_count": null,
   "metadata": {},
   "outputs": [],
   "source": [
    "def findAns(l):\n",
    "    ansList = list()\n",
    "    for m in l:\n",
    "        maxCount = 0\n",
    "        for ch in m:\n",
    "            if ch.isdigit():\n",
    "                maxCount += int(ch)\n",
    "        ansList.append(maxCount)        \n",
    "    return ansList  \n",
    "\n",
    "l = list()\n",
    "tc = int(input())\n",
    "for t in range(tc):\n",
    "    node = input()\n",
    "    l.append(node)\n",
    "\n",
    "for x in findAns(l):\n",
    "    print(x)"
   ]
  },
  {
   "cell_type": "code",
   "execution_count": null,
   "metadata": {},
   "outputs": [],
   "source": [
    "def findAns(l1,l2):\n",
    "    ansList = list()\n",
    "    for i,m in enumerate(l1):\n",
    "        ValidPos = 0\n",
    "        sumTot = 0\n",
    "        for nu in m:\n",
    "            sumTot +=nu\n",
    "        for j,b in enumerate(m):\n",
    "            if b+l2[i] > sumTot - b:\n",
    "                ValidPos += 1\n",
    "        ansList.append(ValidPos)\n",
    "    return ansList  \n",
    "\n",
    "l1 = list()\n",
    "l2 = list()\n",
    "tc = int(input())\n",
    "for t in range(tc):\n",
    "    nf = input()\n",
    "    node = [int(x) for x in input().split()]\n",
    "    l1.append(node)\n",
    "    l2.append(int(nf[-1]))\n",
    "\n",
    "for x in findAns(l1,l2):\n",
    "    print(x)"
   ]
  },
  {
   "cell_type": "code",
   "execution_count": null,
   "metadata": {},
   "outputs": [],
   "source": [
    "l = input()\n",
    "print(l[-1])"
   ]
  },
  {
   "cell_type": "code",
   "execution_count": null,
   "metadata": {},
   "outputs": [],
   "source": [
    "def ans(l1,l2):\n",
    "    sourceDict = {}\n",
    "    ansList = list()\n",
    "    for x in range(0,26):\n",
    "        sourceDict[chr(ord('a') + x)] = l1[x].lower()\n",
    "        sourceDict[chr(ord('A') + x)] = l1[x].upper() \n",
    "    sourceDict['_'] = ' '\n",
    "    \n",
    "    for x in l2:\n",
    "        converted = ''\n",
    "        for ch in x:\n",
    "            if ch in sourceDict:\n",
    "                converted += sourceDict[ch]\n",
    "                continue\n",
    "            else:\n",
    "                converted += ch\n",
    "        ansList.append(converted)\n",
    "    return ansList\n",
    "l1 = list()\n",
    "node = [x for x in input().split()]\n",
    "for x in range(int(node[0])):\n",
    "    l1.append(input())\n",
    "\n",
    "for x in ans(node[1],l1):\n",
    "    print(x)\n",
    "   "
   ]
  },
  {
   "cell_type": "code",
   "execution_count": null,
   "metadata": {},
   "outputs": [],
   "source": [
    "def ans(l):\n",
    "    output = list()\n",
    "    for i,m in enumerate(l):\n",
    "        localIn = 0\n",
    "        In = 0\n",
    "        j = 0\n",
    "        while j < len(m):\n",
    "            if j < len(m) - 1 and m[j] > m[j+1]:\n",
    "                localIn += 1                \n",
    "            k = j + 1\n",
    "            while k < len(m):\n",
    "                if k > j and m[j] > m[k]:\n",
    "                    In += 1\n",
    "                k += 1\n",
    "            j += 1    \n",
    "        if localIn == In:\n",
    "            output.append('YES')\n",
    "        else:\n",
    "            output.append('NO') \n",
    "    return output \n",
    "l = list()\n",
    "tc = int(input())\n",
    "for x in range(tc):\n",
    "    y=int(input())\n",
    "    node = [int(x) for x in input().split()]\n",
    "    l.append(node)\n",
    "\n",
    "for x in ans(l):\n",
    "    print(x)                    \n",
    "                \n",
    "        \n",
    "        "
   ]
  },
  {
   "cell_type": "code",
   "execution_count": 4,
   "metadata": {},
   "outputs": [
    {
     "name": "stdout",
     "output_type": "stream",
     "text": [
      "2\n",
      "10\n",
      "11\n",
      "2  1  4  3  6  5  8  7  10  9\n",
      "2  1  4  3  6  5  8  7  10  11  9\n"
     ]
    }
   ],
   "source": [
    "import itertools\n",
    "def ans(x):\n",
    "    goodlist = ''\n",
    "    perList = set()\n",
    "    perList = itertools.permutations(range(1,x+1))\n",
    "    for u in perList:\n",
    "        isgood = True  \n",
    "        l = u \n",
    "        for i,a in enumerate(l):\n",
    "            if a==i+1:\n",
    "                isgood = False\n",
    "                break\n",
    "        if isgood == False:\n",
    "            continue\n",
    "        if len(goodlist) > 0 and l < goodlist[0]:\n",
    "            goodlist = l\n",
    "            continue        \n",
    "        else:\n",
    "            goodlist.append(l)     \n",
    "    return str(goodlist[0]).replace(',',' ').replace('(','').replace(')','')\n",
    "\n",
    "l = list()\n",
    "tc = int(input())\n",
    "for x in range(tc):\n",
    "    l.append(int(input()))\n",
    "\n",
    "for x in l:\n",
    "    print(ans(x))\n",
    "    "
   ]
  },
  {
   "cell_type": "code",
   "execution_count": null,
   "metadata": {},
   "outputs": [],
   "source": [
    "[1,2,3] > [1,3,2]"
   ]
  },
  {
   "cell_type": "code",
   "execution_count": null,
   "metadata": {},
   "outputs": [],
   "source": []
  }
 ],
 "metadata": {
  "kernelspec": {
   "display_name": "Python 3",
   "language": "python",
   "name": "python3"
  },
  "language_info": {
   "codemirror_mode": {
    "name": "ipython",
    "version": 3
   },
   "file_extension": ".py",
   "mimetype": "text/x-python",
   "name": "python",
   "nbconvert_exporter": "python",
   "pygments_lexer": "ipython3",
   "version": "3.6.5"
  }
 },
 "nbformat": 4,
 "nbformat_minor": 2
}
